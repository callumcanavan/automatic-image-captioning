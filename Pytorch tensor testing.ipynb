{
 "cells": [
  {
   "cell_type": "code",
   "execution_count": 1,
   "metadata": {},
   "outputs": [],
   "source": [
    "import torch"
   ]
  },
  {
   "cell_type": "code",
   "execution_count": 31,
   "metadata": {},
   "outputs": [
    {
     "data": {
      "text/plain": [
       "tensor([[  1,   2,   3,   4,   5,   6,   7,   8],\n",
       "        [  9,  10,  11,  12,  13,  14,  15,  16]])"
      ]
     },
     "execution_count": 31,
     "metadata": {},
     "output_type": "execute_result"
    }
   ],
   "source": [
    "a = torch.tensor([[1,2,3,4,5,6,7,8], [9,10,11,12,13,14,15,16]])\n",
    "a"
   ]
  },
  {
   "cell_type": "code",
   "execution_count": 3,
   "metadata": {},
   "outputs": [
    {
     "data": {
      "text/plain": [
       "tensor([[[ 10,   2,   3,   4,   5,   6,   7,   8],\n",
       "         [ 11,   2,   3,   4,   5,   6,   7,   8],\n",
       "         [ 12,   2,   3,   4,   5,   6,   7,   8]],\n",
       "\n",
       "        [[ 90,  10,  11,  12,  13,  14,  15,  16],\n",
       "         [ 91,  10,  11,  12,  13,  14,  15,  16],\n",
       "         [ 92,  10,  11,  12,  13,  14,  15,  16]]])"
      ]
     },
     "execution_count": 3,
     "metadata": {},
     "output_type": "execute_result"
    }
   ],
   "source": [
    "b = torch.tensor([\n",
    "    [[10,2,3,4,5,6,7,8], [11,2,3,4,5,6,7,8], [12,2,3,4,5,6,7,8]],\n",
    "    [[90,10,11,12,13,14,15,16], [91,10,11,12,13,14,15,16], [92,10,11,12,13,14,15,16]]\n",
    "])\n",
    "b"
   ]
  },
  {
   "cell_type": "code",
   "execution_count": 4,
   "metadata": {},
   "outputs": [
    {
     "data": {
      "text/plain": [
       "tensor([[[  1,   2,   3,   4,   5,   6,   7,   8],\n",
       "         [ 10,   2,   3,   4,   5,   6,   7,   8],\n",
       "         [ 11,   2,   3,   4,   5,   6,   7,   8],\n",
       "         [ 12,   2,   3,   4,   5,   6,   7,   8]],\n",
       "\n",
       "        [[  9,  10,  11,  12,  13,  14,  15,  16],\n",
       "         [ 90,  10,  11,  12,  13,  14,  15,  16],\n",
       "         [ 91,  10,  11,  12,  13,  14,  15,  16],\n",
       "         [ 92,  10,  11,  12,  13,  14,  15,  16]]])"
      ]
     },
     "execution_count": 4,
     "metadata": {},
     "output_type": "execute_result"
    }
   ],
   "source": [
    "torch.cat((a.view(b.size(0), 1, -1), b), dim=1)"
   ]
  },
  {
   "cell_type": "code",
   "execution_count": 25,
   "metadata": {},
   "outputs": [
    {
     "data": {
      "text/plain": [
       "tensor([[[  0,   1,   2,   3,   4,   5,   6,   7],\n",
       "         [  8,   9,  10,  11,  12,  13,  14,  15],\n",
       "         [ 16,  17,  18,  19,  20,  21,  22,  23],\n",
       "         [ 24,  25,  26,  27,  28,  29,  30,  31]],\n",
       "\n",
       "        [[ 32,  33,  34,  35,  36,  37,  38,  39],\n",
       "         [ 40,  41,  42,  43,  44,  45,  46,  47],\n",
       "         [ 48,  49,  50,  51,  52,  53,  54,  55],\n",
       "         [ 56,  57,  58,  59,  60,  61,  62,  63]]], dtype=torch.int32)"
      ]
     },
     "execution_count": 25,
     "metadata": {},
     "output_type": "execute_result"
    }
   ],
   "source": [
    "c = torch.range(0, 63, dtype=torch.int).reshape(2, -1, 8)\n",
    "c"
   ]
  },
  {
   "cell_type": "code",
   "execution_count": 34,
   "metadata": {},
   "outputs": [
    {
     "data": {
      "text/plain": [
       "tensor([[[  1,   2,   3,   4,   5,   6,   7,   8],\n",
       "         [  9,  10,  11,  12,  13,  14,  15,  16]]])"
      ]
     },
     "execution_count": 34,
     "metadata": {},
     "output_type": "execute_result"
    }
   ],
   "source": [
    "a = a.view(1, -1, 8)\n",
    "a"
   ]
  },
  {
   "cell_type": "code",
   "execution_count": 29,
   "metadata": {},
   "outputs": [
    {
     "data": {
      "text/plain": [
       "tensor([[[  0,   1,   2,   3,   4,   5,   6,   7],\n",
       "         [ 32,  33,  34,  35,  36,  37,  38,  39]],\n",
       "\n",
       "        [[  8,   9,  10,  11,  12,  13,  14,  15],\n",
       "         [ 40,  41,  42,  43,  44,  45,  46,  47]],\n",
       "\n",
       "        [[ 16,  17,  18,  19,  20,  21,  22,  23],\n",
       "         [ 48,  49,  50,  51,  52,  53,  54,  55]]], dtype=torch.int32)"
      ]
     },
     "execution_count": 29,
     "metadata": {},
     "output_type": "execute_result"
    }
   ],
   "source": [
    "c.permute(1,0,2)[:-1]"
   ]
  },
  {
   "cell_type": "code",
   "execution_count": null,
   "metadata": {},
   "outputs": [],
   "source": []
  }
 ],
 "metadata": {
  "kernelspec": {
   "display_name": "Python 3",
   "language": "python",
   "name": "python3"
  },
  "language_info": {
   "codemirror_mode": {
    "name": "ipython",
    "version": 3
   },
   "file_extension": ".py",
   "mimetype": "text/x-python",
   "name": "python",
   "nbconvert_exporter": "python",
   "pygments_lexer": "ipython3",
   "version": "3.6.3"
  }
 },
 "nbformat": 4,
 "nbformat_minor": 2
}
